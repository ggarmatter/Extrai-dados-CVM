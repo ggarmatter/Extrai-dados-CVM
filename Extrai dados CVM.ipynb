{
 "cells": [
  {
   "cell_type": "code",
   "execution_count": 2,
   "metadata": {},
   "outputs": [],
   "source": [
    "import pandas as pd\n",
    "import datetime\n",
    "import numpy as np\n",
    "import os.path\n",
    "import wget\n",
    "from zipfile import ZipFile\n",
    "import shutil"
   ]
  },
  {
   "cell_type": "code",
   "execution_count": 2,
   "metadata": {},
   "outputs": [],
   "source": [
    "#URL's onde estão os arquivos dfp e itr na CVM\n",
    "url_base = 'http://dados.cvm.gov.br/dados/CIA_ABERTA/DOC/DFP/DADOS/'\n",
    "url_quantidade = 'http://dados.cvm.gov.br/dados/CIA_ABERTA/DOC/FRE/DADOS/'\n",
    "url_ticker = 'http://dados.cvm.gov.br/dados/CIA_ABERTA/DOC/FCA/DADOS/'\n",
    "url_base_tri = 'http://dados.cvm.gov.br/dados/CIA_ABERTA/DOC/ITR/DADOS/'"
   ]
  },
  {
   "cell_type": "code",
   "execution_count": 5,
   "metadata": {},
   "outputs": [
    {
     "data": {
      "text/plain": [
       "'F:\\\\Extrai-dados-CVM'"
      ]
     },
     "execution_count": 5,
     "metadata": {},
     "output_type": "execute_result"
    }
   ],
   "source": [
    "#pega o caminho do diretorio atual\n",
    "diretorio = os.getcwd()\n",
    "diretorio"
   ]
  },
  {
   "cell_type": "code",
   "execution_count": 37,
   "metadata": {},
   "outputs": [],
   "source": [
    "tipo = \"con\" #qual base de dados quero usar, \"con\" para consolidado e \"ind\" para individual"
   ]
  },
  {
   "cell_type": "code",
   "execution_count": 4,
   "metadata": {},
   "outputs": [
    {
     "data": {
      "text/plain": [
       "2022"
      ]
     },
     "execution_count": 4,
     "metadata": {},
     "output_type": "execute_result"
    }
   ],
   "source": [
    "#Pega data corrente e ano corrente\n",
    "date = datetime.date.today()\n",
    "year = date.year\n",
    "year_0 = 2010 # ano inicial dos dados\n",
    "year_0_tri = year-2 # ano inicial pros dados trimestrais\n",
    "year"
   ]
  },
  {
   "cell_type": "code",
   "execution_count": 5,
   "metadata": {},
   "outputs": [
    {
     "data": {
      "text/plain": [
       "['dfp_cia_aberta_2010.zip',\n",
       " 'dfp_cia_aberta_2011.zip',\n",
       " 'dfp_cia_aberta_2012.zip',\n",
       " 'dfp_cia_aberta_2013.zip',\n",
       " 'dfp_cia_aberta_2014.zip',\n",
       " 'dfp_cia_aberta_2015.zip',\n",
       " 'dfp_cia_aberta_2016.zip',\n",
       " 'dfp_cia_aberta_2017.zip',\n",
       " 'dfp_cia_aberta_2018.zip',\n",
       " 'dfp_cia_aberta_2019.zip',\n",
       " 'dfp_cia_aberta_2020.zip',\n",
       " 'dfp_cia_aberta_2021.zip',\n",
       " 'dfp_cia_aberta_2022.zip']"
      ]
     },
     "execution_count": 5,
     "metadata": {},
     "output_type": "execute_result"
    }
   ],
   "source": [
    "#Cria uma lista com os nomes dos arquivos da CVM\n",
    "arquivos_zip = []\n",
    "for ano in range(year_0,year+1):\n",
    "    arquivos_zip.append(f'dfp_cia_aberta_{ano}.zip')\n",
    "arquivos_zip"
   ]
  },
  {
   "cell_type": "code",
   "execution_count": 6,
   "metadata": {},
   "outputs": [
    {
     "name": "stdout",
     "output_type": "stream",
     "text": [
      "dfp_cia_aberta_2010.zip esta aqui\n",
      "dfp_cia_aberta_2011.zip esta aqui\n",
      "dfp_cia_aberta_2012.zip esta aqui\n",
      "dfp_cia_aberta_2013.zip esta aqui\n",
      "dfp_cia_aberta_2014.zip esta aqui\n",
      "dfp_cia_aberta_2015.zip esta aqui\n",
      "dfp_cia_aberta_2016.zip esta aqui\n",
      "dfp_cia_aberta_2017.zip esta aqui\n",
      "dfp_cia_aberta_2018.zip esta aqui\n",
      "dfp_cia_aberta_2019.zip esta aqui\n",
      "dfp_cia_aberta_2020.zip esta aqui\n",
      "dfp_cia_aberta_2021.zip esta aqui\n",
      "dfp_cia_aberta_2022.zip esta aqui\n"
     ]
    }
   ],
   "source": [
    "#baixa o arquivos se não estiver presente\n",
    "for arq in arquivos_zip:\n",
    "    if (os.path.isfile(f'{diretorio}/Data/{arq}')):\n",
    "        print('%s esta aqui' % arq)\n",
    "    else:\n",
    "        try:\n",
    "            wget.download(url_base+arq, out=f\"./Data/{arq}\")\n",
    "        except:\n",
    "            print(f\"falha ao baixar {arq}\")\n",
    "            pass"
   ]
  },
  {
   "cell_type": "code",
   "execution_count": 7,
   "metadata": {},
   "outputs": [
    {
     "name": "stdout",
     "output_type": "stream",
     "text": [
      "dfp_cia_aberta_2010.zip extraido\n",
      "dfp_cia_aberta_2011.zip extraido\n",
      "dfp_cia_aberta_2012.zip extraido\n",
      "dfp_cia_aberta_2013.zip extraido\n",
      "dfp_cia_aberta_2014.zip extraido\n",
      "dfp_cia_aberta_2015.zip extraido\n",
      "dfp_cia_aberta_2016.zip extraido\n",
      "dfp_cia_aberta_2017.zip extraido\n",
      "dfp_cia_aberta_2018.zip extraido\n",
      "dfp_cia_aberta_2019.zip extraido\n",
      "dfp_cia_aberta_2020.zip extraido\n",
      "dfp_cia_aberta_2021.zip extraido\n",
      "dfp_cia_aberta_2022.zip extraido\n"
     ]
    }
   ],
   "source": [
    "#extrai tudo\n",
    "for arq in arquivos_zip:\n",
    "    try:\n",
    "        ZipFile(f\"./Data/{arq}\", 'r').extractall('./Data/temp')\n",
    "        print(f\"{arq} extraido\")\n",
    "    except:\n",
    "        pass"
   ]
  },
  {
   "cell_type": "code",
   "execution_count": 8,
   "metadata": {},
   "outputs": [],
   "source": [
    "# junta todos os anos de dados anuais em um arquivo só de cada tipo\n",
    "nomes = ['BPA_con', 'BPA_ind', 'BPP_con', 'BPP_ind', 'DRE_con', 'DRE_ind', \n",
    "         'DFC_MD_con', 'DFC_MI_con', 'DFC_MD_ind', 'DFC_MI_ind']\n",
    "for nome in nomes:\n",
    "    arquivo_bp = pd.DataFrame()\n",
    "    for ano in range(year_0,year):\n",
    "        try:\n",
    "            arquivo_bp = pd.concat([arquivo_bp, pd.read_csv(f'{diretorio}/Data/temp/dfp_cia_aberta_{nome}_{ano}.csv', sep=';', decimal=',', encoding='ISO-8859-1')])\n",
    "        except:\n",
    "            print(f\"falha em {nome}\")\n",
    "            pass\n",
    "    arquivo_bp.to_csv(f'{diretorio}/Data/processados/dfp_cia_aberta_{nome}_{year_0}-{year}.csv', index=False)\n",
    "    print(f'DFP {nome} processado')"
   ]
  },
  {
   "cell_type": "code",
   "execution_count": 9,
   "metadata": {},
   "outputs": [
    {
     "data": {
      "text/plain": [
       "['itr_cia_aberta_2020.zip',\n",
       " 'itr_cia_aberta_2021.zip',\n",
       " 'itr_cia_aberta_2022.zip']"
      ]
     },
     "execution_count": 9,
     "metadata": {},
     "output_type": "execute_result"
    }
   ],
   "source": [
    "#Cria lista de arquivos ITR (trimestrais) pra baixar\n",
    "arquivos_zip = []\n",
    "for ano in range(year_0_tri, year+1):\n",
    "    arquivos_zip.append(f'itr_cia_aberta_{ano}.zip')\n",
    "arquivos_zip"
   ]
  },
  {
   "cell_type": "code",
   "execution_count": 10,
   "metadata": {},
   "outputs": [
    {
     "name": "stdout",
     "output_type": "stream",
     "text": [
      "itr_cia_aberta_2020.zip esta aqui\n",
      "itr_cia_aberta_2021.zip esta aqui\n",
      "itr_cia_aberta_2022.zip esta aqui\n"
     ]
    }
   ],
   "source": [
    "#baixa os arquivos ITR (dados trimestrais)\n",
    "for arq in arquivos_zip:\n",
    "    if (os.path.isfile(f'{diretorio}/Data/{arq}')):\n",
    "        print('%s esta aqui' % arq)\n",
    "    else:\n",
    "        try:\n",
    "            wget.download(url_base_tri+arq, out=f\"./Data/{arq}\")\n",
    "        except:\n",
    "            print(f\"falha ao baixar {arq}\")\n",
    "            pass"
   ]
  },
  {
   "cell_type": "code",
   "execution_count": 11,
   "metadata": {},
   "outputs": [
    {
     "name": "stdout",
     "output_type": "stream",
     "text": [
      "itr_cia_aberta_2020.zip extraido\n",
      "itr_cia_aberta_2021.zip extraido\n",
      "itr_cia_aberta_2022.zip extraido\n"
     ]
    }
   ],
   "source": [
    "#extrai tudo\n",
    "for arq in arquivos_zip:\n",
    "    try:\n",
    "        ZipFile(f\"./Data/{arq}\", 'r').extractall('./Data/temp')\n",
    "        print(f\"{arq} extraido\")\n",
    "    except:\n",
    "        print(f\"{arq} não encontrado\")\n",
    "        pass"
   ]
  },
  {
   "cell_type": "code",
   "execution_count": 12,
   "metadata": {},
   "outputs": [],
   "source": [
    "# junta todos os anos de dados trimestrais em um arquivo só de cada tipo\n",
    "nomes_tri = ['BPA_con', 'BPA_ind', 'BPP_con', 'BPP_ind','DRE_con', 'DRE_ind', \n",
    "             \"DFC_MD_con\", \"DFC_MI_con\", \"DFC_MD_ind\", \"DFC_MI_ind\"]\n",
    "for nome in nomes_tri:\n",
    "    arquivo_bp = pd.DataFrame()\n",
    "    for ano in range(year_0_tri,year):\n",
    "        try:\n",
    "            arquivo_bp = pd.concat([arquivo_bp, pd.read_csv(f'{diretorio}/Data/temp/itr_cia_aberta_{nome}_{ano}.csv', sep=';', decimal=',', encoding='ISO-8859-1')])\n",
    "        except:\n",
    "            print(f\"falha em itr_cia_aberta_{nome}_{ano}\")\n",
    "            pass\n",
    "    arquivo_bp.to_csv(f'{diretorio}/Data/processados/itr_cia_aberta_{nome}_{year_0_tri}-{year}.csv', index=False)\n",
    "    print(f'ITR {nome} processado')"
   ]
  },
  {
   "cell_type": "code",
   "execution_count": 13,
   "metadata": {},
   "outputs": [],
   "source": [
    "#deleta pasta temporaria\n",
    "shutil.rmtree(f'{diretorio}/Data/temp')"
   ]
  },
  {
   "cell_type": "code",
   "execution_count": 15,
   "metadata": {},
   "outputs": [
    {
     "data": {
      "text/html": [
       "<div>\n",
       "<style scoped>\n",
       "    .dataframe tbody tr th:only-of-type {\n",
       "        vertical-align: middle;\n",
       "    }\n",
       "\n",
       "    .dataframe tbody tr th {\n",
       "        vertical-align: top;\n",
       "    }\n",
       "\n",
       "    .dataframe thead th {\n",
       "        text-align: right;\n",
       "    }\n",
       "</style>\n",
       "<table border=\"1\" class=\"dataframe\">\n",
       "  <thead>\n",
       "    <tr style=\"text-align: right;\">\n",
       "      <th></th>\n",
       "      <th>DENOM_CIA</th>\n",
       "      <th>CD_CVM</th>\n",
       "    </tr>\n",
       "  </thead>\n",
       "  <tbody>\n",
       "    <tr>\n",
       "      <th>0</th>\n",
       "      <td>BCO BRASIL S.A.</td>\n",
       "      <td>1023</td>\n",
       "    </tr>\n",
       "    <tr>\n",
       "      <th>1</th>\n",
       "      <td>BRB BCO DE BRASILIA S.A.</td>\n",
       "      <td>14206</td>\n",
       "    </tr>\n",
       "    <tr>\n",
       "      <th>2</th>\n",
       "      <td>CENTRAIS ELET BRAS S.A. - ELETROBRAS</td>\n",
       "      <td>2437</td>\n",
       "    </tr>\n",
       "    <tr>\n",
       "      <th>3</th>\n",
       "      <td>CIA ENERGETICA DE BRASILIA</td>\n",
       "      <td>14451</td>\n",
       "    </tr>\n",
       "    <tr>\n",
       "      <th>4</th>\n",
       "      <td>VBC ENERGIA SA</td>\n",
       "      <td>14540</td>\n",
       "    </tr>\n",
       "  </tbody>\n",
       "</table>\n",
       "</div>"
      ],
      "text/plain": [
       "                              DENOM_CIA  CD_CVM\n",
       "0                       BCO BRASIL S.A.    1023\n",
       "1              BRB BCO DE BRASILIA S.A.   14206\n",
       "2  CENTRAIS ELET BRAS S.A. - ELETROBRAS    2437\n",
       "3            CIA ENERGETICA DE BRASILIA   14451\n",
       "4                        VBC ENERGIA SA   14540"
      ]
     },
     "execution_count": 15,
     "metadata": {},
     "output_type": "execute_result"
    }
   ],
   "source": [
    "#cria lista de empresas\n",
    "lista_empresas = pd.read_csv(\"./Data/processados/dfp_cia_aberta_BPA_{tipo}_2010-2022.csv\", header=0, sep=\",\")[[\"DENOM_CIA\", 'CD_CVM']].drop_duplicates(ignore_index=True)\n",
    "lista_empresas.head()"
   ]
  },
  {
   "cell_type": "code",
   "execution_count": 16,
   "metadata": {},
   "outputs": [
    {
     "data": {
      "text/html": [
       "<div>\n",
       "<style scoped>\n",
       "    .dataframe tbody tr th:only-of-type {\n",
       "        vertical-align: middle;\n",
       "    }\n",
       "\n",
       "    .dataframe tbody tr th {\n",
       "        vertical-align: top;\n",
       "    }\n",
       "\n",
       "    .dataframe thead th {\n",
       "        text-align: right;\n",
       "    }\n",
       "</style>\n",
       "<table border=\"1\" class=\"dataframe\">\n",
       "  <thead>\n",
       "    <tr style=\"text-align: right;\">\n",
       "      <th></th>\n",
       "      <th>DENOM_CIA</th>\n",
       "      <th>CD_CVM</th>\n",
       "    </tr>\n",
       "  </thead>\n",
       "  <tbody>\n",
       "    <tr>\n",
       "      <th>460</th>\n",
       "      <td>SINQIA S.A.</td>\n",
       "      <td>22799</td>\n",
       "    </tr>\n",
       "  </tbody>\n",
       "</table>\n",
       "</div>"
      ],
      "text/plain": [
       "       DENOM_CIA  CD_CVM\n",
       "460  SINQIA S.A.   22799"
      ]
     },
     "execution_count": 16,
     "metadata": {},
     "output_type": "execute_result"
    }
   ],
   "source": [
    "#busca codigo CVM da empresa desejada\n",
    "#busca = input(\"Entre com o nome da empresa: \")\n",
    "busca = \"sinqia\"\n",
    "empresa = lista_empresas[lista_empresas['DENOM_CIA'].str.contains(busca, case=False)]\n",
    "empresa"
   ]
  },
  {
   "cell_type": "code",
   "execution_count": 27,
   "metadata": {},
   "outputs": [
    {
     "data": {
      "text/plain": [
       "'SINQIA S.A.'"
      ]
     },
     "execution_count": 27,
     "metadata": {},
     "output_type": "execute_result"
    }
   ],
   "source": [
    "denom_cia = empresa.iloc[0,0]\n",
    "denom_cia"
   ]
  },
  {
   "cell_type": "code",
   "execution_count": 43,
   "metadata": {},
   "outputs": [
    {
     "data": {
      "text/html": [
       "<div>\n",
       "<style scoped>\n",
       "    .dataframe tbody tr th:only-of-type {\n",
       "        vertical-align: middle;\n",
       "    }\n",
       "\n",
       "    .dataframe tbody tr th {\n",
       "        vertical-align: top;\n",
       "    }\n",
       "\n",
       "    .dataframe thead th {\n",
       "        text-align: right;\n",
       "    }\n",
       "</style>\n",
       "<table border=\"1\" class=\"dataframe\">\n",
       "  <thead>\n",
       "    <tr style=\"text-align: right;\">\n",
       "      <th></th>\n",
       "      <th>CNPJ_CIA</th>\n",
       "      <th>DT_REFER</th>\n",
       "      <th>VERSAO</th>\n",
       "      <th>DENOM_CIA</th>\n",
       "      <th>CD_CVM</th>\n",
       "      <th>GRUPO_DFP</th>\n",
       "      <th>MOEDA</th>\n",
       "      <th>ESCALA_MOEDA</th>\n",
       "      <th>ORDEM_EXERC</th>\n",
       "      <th>DT_INI_EXERC</th>\n",
       "      <th>DT_FIM_EXERC</th>\n",
       "      <th>CD_CONTA</th>\n",
       "      <th>DS_CONTA</th>\n",
       "      <th>VL_CONTA</th>\n",
       "      <th>ST_CONTA_FIXA</th>\n",
       "    </tr>\n",
       "  </thead>\n",
       "  <tbody>\n",
       "    <tr>\n",
       "      <th>0</th>\n",
       "      <td>04.065.791/0001-99</td>\n",
       "      <td>2018-12-31</td>\n",
       "      <td>3</td>\n",
       "      <td>SINQIA S.A.</td>\n",
       "      <td>22799</td>\n",
       "      <td>DF Consolidado - Demonstração do Resultado</td>\n",
       "      <td>REAL</td>\n",
       "      <td>MIL</td>\n",
       "      <td>ÚLTIMO</td>\n",
       "      <td>2018-01-01</td>\n",
       "      <td>2018-12-31</td>\n",
       "      <td>3.01</td>\n",
       "      <td>Receita de Venda de Bens e/ou Serviços</td>\n",
       "      <td>142109.0</td>\n",
       "      <td>S</td>\n",
       "    </tr>\n",
       "    <tr>\n",
       "      <th>1</th>\n",
       "      <td>04.065.791/0001-99</td>\n",
       "      <td>2018-12-31</td>\n",
       "      <td>3</td>\n",
       "      <td>SINQIA S.A.</td>\n",
       "      <td>22799</td>\n",
       "      <td>DF Consolidado - Demonstração do Resultado</td>\n",
       "      <td>REAL</td>\n",
       "      <td>MIL</td>\n",
       "      <td>ÚLTIMO</td>\n",
       "      <td>2018-01-01</td>\n",
       "      <td>2018-12-31</td>\n",
       "      <td>3.02</td>\n",
       "      <td>Custo dos Bens e/ou Serviços Vendidos</td>\n",
       "      <td>-89214.0</td>\n",
       "      <td>S</td>\n",
       "    </tr>\n",
       "    <tr>\n",
       "      <th>2</th>\n",
       "      <td>04.065.791/0001-99</td>\n",
       "      <td>2018-12-31</td>\n",
       "      <td>3</td>\n",
       "      <td>SINQIA S.A.</td>\n",
       "      <td>22799</td>\n",
       "      <td>DF Consolidado - Demonstração do Resultado</td>\n",
       "      <td>REAL</td>\n",
       "      <td>MIL</td>\n",
       "      <td>ÚLTIMO</td>\n",
       "      <td>2018-01-01</td>\n",
       "      <td>2018-12-31</td>\n",
       "      <td>3.03</td>\n",
       "      <td>Resultado Bruto</td>\n",
       "      <td>52895.0</td>\n",
       "      <td>S</td>\n",
       "    </tr>\n",
       "    <tr>\n",
       "      <th>3</th>\n",
       "      <td>04.065.791/0001-99</td>\n",
       "      <td>2018-12-31</td>\n",
       "      <td>3</td>\n",
       "      <td>SINQIA S.A.</td>\n",
       "      <td>22799</td>\n",
       "      <td>DF Consolidado - Demonstração do Resultado</td>\n",
       "      <td>REAL</td>\n",
       "      <td>MIL</td>\n",
       "      <td>ÚLTIMO</td>\n",
       "      <td>2018-01-01</td>\n",
       "      <td>2018-12-31</td>\n",
       "      <td>3.04</td>\n",
       "      <td>Despesas/Receitas Operacionais</td>\n",
       "      <td>-44816.0</td>\n",
       "      <td>S</td>\n",
       "    </tr>\n",
       "    <tr>\n",
       "      <th>4</th>\n",
       "      <td>04.065.791/0001-99</td>\n",
       "      <td>2018-12-31</td>\n",
       "      <td>3</td>\n",
       "      <td>SINQIA S.A.</td>\n",
       "      <td>22799</td>\n",
       "      <td>DF Consolidado - Demonstração do Resultado</td>\n",
       "      <td>REAL</td>\n",
       "      <td>MIL</td>\n",
       "      <td>ÚLTIMO</td>\n",
       "      <td>2018-01-01</td>\n",
       "      <td>2018-12-31</td>\n",
       "      <td>3.04.01</td>\n",
       "      <td>Despesas com Vendas</td>\n",
       "      <td>0.0</td>\n",
       "      <td>S</td>\n",
       "    </tr>\n",
       "    <tr>\n",
       "      <th>...</th>\n",
       "      <td>...</td>\n",
       "      <td>...</td>\n",
       "      <td>...</td>\n",
       "      <td>...</td>\n",
       "      <td>...</td>\n",
       "      <td>...</td>\n",
       "      <td>...</td>\n",
       "      <td>...</td>\n",
       "      <td>...</td>\n",
       "      <td>...</td>\n",
       "      <td>...</td>\n",
       "      <td>...</td>\n",
       "      <td>...</td>\n",
       "      <td>...</td>\n",
       "      <td>...</td>\n",
       "    </tr>\n",
       "    <tr>\n",
       "      <th>533</th>\n",
       "      <td>04.065.791/0001-99</td>\n",
       "      <td>2021-12-31</td>\n",
       "      <td>1</td>\n",
       "      <td>SINQIA S.A.</td>\n",
       "      <td>22799</td>\n",
       "      <td>DF Consolidado - Demonstração do Resultado</td>\n",
       "      <td>REAL</td>\n",
       "      <td>MIL</td>\n",
       "      <td>ÚLTIMO</td>\n",
       "      <td>2021-10-01</td>\n",
       "      <td>2021-12-31</td>\n",
       "      <td>3.99</td>\n",
       "      <td>Lucro por Ação - (Reais / Ação)</td>\n",
       "      <td>0.0</td>\n",
       "      <td>N</td>\n",
       "    </tr>\n",
       "    <tr>\n",
       "      <th>534</th>\n",
       "      <td>04.065.791/0001-99</td>\n",
       "      <td>2021-12-31</td>\n",
       "      <td>1</td>\n",
       "      <td>SINQIA S.A.</td>\n",
       "      <td>22799</td>\n",
       "      <td>DF Consolidado - Demonstração do Resultado</td>\n",
       "      <td>REAL</td>\n",
       "      <td>MIL</td>\n",
       "      <td>ÚLTIMO</td>\n",
       "      <td>2021-01-01</td>\n",
       "      <td>2021-12-31</td>\n",
       "      <td>3.99.01</td>\n",
       "      <td>Lucro Básico por Ação</td>\n",
       "      <td>0.0</td>\n",
       "      <td>N</td>\n",
       "    </tr>\n",
       "    <tr>\n",
       "      <th>535</th>\n",
       "      <td>04.065.791/0001-99</td>\n",
       "      <td>2021-12-31</td>\n",
       "      <td>1</td>\n",
       "      <td>SINQIA S.A.</td>\n",
       "      <td>22799</td>\n",
       "      <td>DF Consolidado - Demonstração do Resultado</td>\n",
       "      <td>REAL</td>\n",
       "      <td>MIL</td>\n",
       "      <td>ÚLTIMO</td>\n",
       "      <td>2021-10-01</td>\n",
       "      <td>2021-12-31</td>\n",
       "      <td>3.99.01</td>\n",
       "      <td>Lucro Básico por Ação</td>\n",
       "      <td>0.0</td>\n",
       "      <td>N</td>\n",
       "    </tr>\n",
       "    <tr>\n",
       "      <th>536</th>\n",
       "      <td>04.065.791/0001-99</td>\n",
       "      <td>2021-12-31</td>\n",
       "      <td>1</td>\n",
       "      <td>SINQIA S.A.</td>\n",
       "      <td>22799</td>\n",
       "      <td>DF Consolidado - Demonstração do Resultado</td>\n",
       "      <td>REAL</td>\n",
       "      <td>MIL</td>\n",
       "      <td>ÚLTIMO</td>\n",
       "      <td>2021-01-01</td>\n",
       "      <td>2021-12-31</td>\n",
       "      <td>3.99.02</td>\n",
       "      <td>Lucro Diluído por Ação</td>\n",
       "      <td>0.0</td>\n",
       "      <td>N</td>\n",
       "    </tr>\n",
       "    <tr>\n",
       "      <th>537</th>\n",
       "      <td>04.065.791/0001-99</td>\n",
       "      <td>2021-12-31</td>\n",
       "      <td>1</td>\n",
       "      <td>SINQIA S.A.</td>\n",
       "      <td>22799</td>\n",
       "      <td>DF Consolidado - Demonstração do Resultado</td>\n",
       "      <td>REAL</td>\n",
       "      <td>MIL</td>\n",
       "      <td>ÚLTIMO</td>\n",
       "      <td>2021-10-01</td>\n",
       "      <td>2021-12-31</td>\n",
       "      <td>3.99.02</td>\n",
       "      <td>Lucro Diluído por Ação</td>\n",
       "      <td>0.0</td>\n",
       "      <td>N</td>\n",
       "    </tr>\n",
       "  </tbody>\n",
       "</table>\n",
       "<p>538 rows × 15 columns</p>\n",
       "</div>"
      ],
      "text/plain": [
       "               CNPJ_CIA    DT_REFER  VERSAO    DENOM_CIA  CD_CVM  \\\n",
       "0    04.065.791/0001-99  2018-12-31       3  SINQIA S.A.   22799   \n",
       "1    04.065.791/0001-99  2018-12-31       3  SINQIA S.A.   22799   \n",
       "2    04.065.791/0001-99  2018-12-31       3  SINQIA S.A.   22799   \n",
       "3    04.065.791/0001-99  2018-12-31       3  SINQIA S.A.   22799   \n",
       "4    04.065.791/0001-99  2018-12-31       3  SINQIA S.A.   22799   \n",
       "..                  ...         ...     ...          ...     ...   \n",
       "533  04.065.791/0001-99  2021-12-31       1  SINQIA S.A.   22799   \n",
       "534  04.065.791/0001-99  2021-12-31       1  SINQIA S.A.   22799   \n",
       "535  04.065.791/0001-99  2021-12-31       1  SINQIA S.A.   22799   \n",
       "536  04.065.791/0001-99  2021-12-31       1  SINQIA S.A.   22799   \n",
       "537  04.065.791/0001-99  2021-12-31       1  SINQIA S.A.   22799   \n",
       "\n",
       "                                      GRUPO_DFP MOEDA ESCALA_MOEDA  \\\n",
       "0    DF Consolidado - Demonstração do Resultado  REAL          MIL   \n",
       "1    DF Consolidado - Demonstração do Resultado  REAL          MIL   \n",
       "2    DF Consolidado - Demonstração do Resultado  REAL          MIL   \n",
       "3    DF Consolidado - Demonstração do Resultado  REAL          MIL   \n",
       "4    DF Consolidado - Demonstração do Resultado  REAL          MIL   \n",
       "..                                          ...   ...          ...   \n",
       "533  DF Consolidado - Demonstração do Resultado  REAL          MIL   \n",
       "534  DF Consolidado - Demonstração do Resultado  REAL          MIL   \n",
       "535  DF Consolidado - Demonstração do Resultado  REAL          MIL   \n",
       "536  DF Consolidado - Demonstração do Resultado  REAL          MIL   \n",
       "537  DF Consolidado - Demonstração do Resultado  REAL          MIL   \n",
       "\n",
       "    ORDEM_EXERC DT_INI_EXERC DT_FIM_EXERC CD_CONTA  \\\n",
       "0        ÚLTIMO   2018-01-01   2018-12-31     3.01   \n",
       "1        ÚLTIMO   2018-01-01   2018-12-31     3.02   \n",
       "2        ÚLTIMO   2018-01-01   2018-12-31     3.03   \n",
       "3        ÚLTIMO   2018-01-01   2018-12-31     3.04   \n",
       "4        ÚLTIMO   2018-01-01   2018-12-31  3.04.01   \n",
       "..          ...          ...          ...      ...   \n",
       "533      ÚLTIMO   2021-10-01   2021-12-31     3.99   \n",
       "534      ÚLTIMO   2021-01-01   2021-12-31  3.99.01   \n",
       "535      ÚLTIMO   2021-10-01   2021-12-31  3.99.01   \n",
       "536      ÚLTIMO   2021-01-01   2021-12-31  3.99.02   \n",
       "537      ÚLTIMO   2021-10-01   2021-12-31  3.99.02   \n",
       "\n",
       "                                   DS_CONTA  VL_CONTA ST_CONTA_FIXA  \n",
       "0    Receita de Venda de Bens e/ou Serviços  142109.0             S  \n",
       "1     Custo dos Bens e/ou Serviços Vendidos  -89214.0             S  \n",
       "2                           Resultado Bruto   52895.0             S  \n",
       "3            Despesas/Receitas Operacionais  -44816.0             S  \n",
       "4                       Despesas com Vendas       0.0             S  \n",
       "..                                      ...       ...           ...  \n",
       "533         Lucro por Ação - (Reais / Ação)       0.0             N  \n",
       "534                   Lucro Básico por Ação       0.0             N  \n",
       "535                   Lucro Básico por Ação       0.0             N  \n",
       "536                  Lucro Diluído por Ação       0.0             N  \n",
       "537                  Lucro Diluído por Ação       0.0             N  \n",
       "\n",
       "[538 rows x 15 columns]"
      ]
     },
     "execution_count": 43,
     "metadata": {},
     "output_type": "execute_result"
    }
   ],
   "source": [
    "# junta os dados anuais com trimestrais\n",
    "dre = pd.concat([pd.read_csv(f'./Data/processados/dfp_cia_aberta_DRE_{tipo}_{year_0}-{year}.csv'),\n",
    "                 pd.read_csv(f'./Data/processados/itr_cia_aberta_DRE_{tipo}_{year_0_tri}-{year}.csv')],\n",
    "               ignore_index=True)\n",
    "# filtra só para empresa que eu quero e para \"último\" para não ter dado duplicado\n",
    "dre = dre[((dre[\"DENOM_CIA\"]==denom_cia) & (dre[\"ORDEM_EXERC\"]==\"ÚLTIMO\"))].reset_index(drop=True)\n",
    "dre"
   ]
  },
  {
   "cell_type": "code",
   "execution_count": null,
   "metadata": {},
   "outputs": [],
   "source": [
    "# agora precisa colocar cada data de referencia em cada coluna"
   ]
  }
 ],
 "metadata": {
  "kernelspec": {
   "display_name": "Python 3",
   "language": "python",
   "name": "python3"
  },
  "language_info": {
   "codemirror_mode": {
    "name": "ipython",
    "version": 3
   },
   "file_extension": ".py",
   "mimetype": "text/x-python",
   "name": "python",
   "nbconvert_exporter": "python",
   "pygments_lexer": "ipython3",
   "version": "3.8.5"
  }
 },
 "nbformat": 4,
 "nbformat_minor": 4
}
