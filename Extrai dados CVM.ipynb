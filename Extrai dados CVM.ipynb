{
 "cells": [
  {
   "cell_type": "code",
   "execution_count": 1,
   "metadata": {},
   "outputs": [],
   "source": [
    "import pandas as pd\n",
    "import datetime\n",
    "import numpy as np\n",
    "import os.path\n",
    "import wget\n",
    "from zipfile import ZipFile\n",
    "import shutil"
   ]
  },
  {
   "cell_type": "code",
   "execution_count": 2,
   "metadata": {},
   "outputs": [],
   "source": [
    "#URL's onde estão os arquivos dfp e itr na CVM\n",
    "url_base = 'http://dados.cvm.gov.br/dados/CIA_ABERTA/DOC/DFP/DADOS/'\n",
    "url_quantidade = 'http://dados.cvm.gov.br/dados/CIA_ABERTA/DOC/FRE/DADOS/'\n",
    "url_ticker = 'http://dados.cvm.gov.br/dados/CIA_ABERTA/DOC/FCA/DADOS/'\n",
    "url_base_tri = 'http://dados.cvm.gov.br/dados/CIA_ABERTA/DOC/ITR/DADOS/'"
   ]
  },
  {
   "cell_type": "code",
   "execution_count": 3,
   "metadata": {},
   "outputs": [
    {
     "data": {
      "text/plain": [
       "'F:\\\\Extrai-dados-CVM'"
      ]
     },
     "execution_count": 3,
     "metadata": {},
     "output_type": "execute_result"
    }
   ],
   "source": [
    "#pega o caminho do diretorio atual\n",
    "diretorio = os.getcwd()\n",
    "diretorio"
   ]
  },
  {
   "cell_type": "code",
   "execution_count": 4,
   "metadata": {},
   "outputs": [
    {
     "data": {
      "text/plain": [
       "2022"
      ]
     },
     "execution_count": 4,
     "metadata": {},
     "output_type": "execute_result"
    }
   ],
   "source": [
    "#Pega data corrente e ano corrente\n",
    "date = datetime.date.today()\n",
    "year = date.year\n",
    "year_0 = 2010 # ano inicial dos dados\n",
    "year_0_tri = year-2 # ano inicial pros dados trimestrais\n",
    "year"
   ]
  },
  {
   "cell_type": "code",
   "execution_count": 5,
   "metadata": {},
   "outputs": [
    {
     "data": {
      "text/plain": [
       "['dfp_cia_aberta_2010.zip',\n",
       " 'dfp_cia_aberta_2011.zip',\n",
       " 'dfp_cia_aberta_2012.zip',\n",
       " 'dfp_cia_aberta_2013.zip',\n",
       " 'dfp_cia_aberta_2014.zip',\n",
       " 'dfp_cia_aberta_2015.zip',\n",
       " 'dfp_cia_aberta_2016.zip',\n",
       " 'dfp_cia_aberta_2017.zip',\n",
       " 'dfp_cia_aberta_2018.zip',\n",
       " 'dfp_cia_aberta_2019.zip',\n",
       " 'dfp_cia_aberta_2020.zip',\n",
       " 'dfp_cia_aberta_2021.zip',\n",
       " 'dfp_cia_aberta_2022.zip']"
      ]
     },
     "execution_count": 5,
     "metadata": {},
     "output_type": "execute_result"
    }
   ],
   "source": [
    "#Cria uma lista com os nomes dos arquivos da CVM\n",
    "arquivos_zip = []\n",
    "for ano in range(year_0,year+1):\n",
    "    arquivos_zip.append(f'dfp_cia_aberta_{ano}.zip')\n",
    "arquivos_zip"
   ]
  },
  {
   "cell_type": "code",
   "execution_count": 6,
   "metadata": {},
   "outputs": [
    {
     "name": "stdout",
     "output_type": "stream",
     "text": [
      "dfp_cia_aberta_2010.zip esta aqui\n",
      "dfp_cia_aberta_2011.zip esta aqui\n",
      "dfp_cia_aberta_2012.zip esta aqui\n",
      "dfp_cia_aberta_2013.zip esta aqui\n",
      "dfp_cia_aberta_2014.zip esta aqui\n",
      "dfp_cia_aberta_2015.zip esta aqui\n",
      "dfp_cia_aberta_2016.zip esta aqui\n",
      "dfp_cia_aberta_2017.zip esta aqui\n",
      "dfp_cia_aberta_2018.zip esta aqui\n",
      "dfp_cia_aberta_2019.zip esta aqui\n",
      "dfp_cia_aberta_2020.zip esta aqui\n",
      "dfp_cia_aberta_2021.zip esta aqui\n",
      "dfp_cia_aberta_2022.zip esta aqui\n"
     ]
    }
   ],
   "source": [
    "#baixa o arquivos se não estiver presente\n",
    "for arq in arquivos_zip:\n",
    "    if (os.path.isfile(f'{diretorio}/Data/{arq}')):\n",
    "        print('%s esta aqui' % arq)\n",
    "    else:\n",
    "        try:\n",
    "            wget.download(url_base+arq, out=f\"./Data/{arq}\")\n",
    "        except:\n",
    "            print(f\"falha ao baixar {arq}\")\n",
    "            pass"
   ]
  },
  {
   "cell_type": "code",
   "execution_count": 7,
   "metadata": {},
   "outputs": [
    {
     "name": "stdout",
     "output_type": "stream",
     "text": [
      "dfp_cia_aberta_2010.zip extraido\n",
      "dfp_cia_aberta_2011.zip extraido\n",
      "dfp_cia_aberta_2012.zip extraido\n",
      "dfp_cia_aberta_2013.zip extraido\n",
      "dfp_cia_aberta_2014.zip extraido\n",
      "dfp_cia_aberta_2015.zip extraido\n",
      "dfp_cia_aberta_2016.zip extraido\n",
      "dfp_cia_aberta_2017.zip extraido\n",
      "dfp_cia_aberta_2018.zip extraido\n",
      "dfp_cia_aberta_2019.zip extraido\n",
      "dfp_cia_aberta_2020.zip extraido\n",
      "dfp_cia_aberta_2021.zip extraido\n",
      "dfp_cia_aberta_2022.zip extraido\n"
     ]
    }
   ],
   "source": [
    "#extrai tudo\n",
    "for arq in arquivos_zip:\n",
    "    try:\n",
    "        ZipFile(f\"./Data/{arq}\", 'r').extractall('./Data/temp')\n",
    "        print(f\"{arq} extraido\")\n",
    "    except:\n",
    "        pass"
   ]
  },
  {
   "cell_type": "code",
   "execution_count": 8,
   "metadata": {},
   "outputs": [],
   "source": [
    "# junta todos os anos de dados anuais em um arquivo só de cada tipo\n",
    "nomes = ['BPA_con', 'BPA_ind', 'BPP_con', 'BPP_ind', 'DRE_con', 'DRE_ind', \n",
    "         'DFC_MD_con', 'DFC_MI_con', 'DFC_MD_ind', 'DFC_MI_ind']\n",
    "for nome in nomes:\n",
    "    arquivo_bp = pd.DataFrame()\n",
    "    for ano in range(year_0,year):\n",
    "        try:\n",
    "            arquivo_bp = pd.concat([arquivo_bp, pd.read_csv(f'{diretorio}/Data/temp/dfp_cia_aberta_{nome}_{ano}.csv', sep=';', decimal=',', encoding='ISO-8859-1')])\n",
    "        except:\n",
    "            print(f\"falha em {nome}\")\n",
    "            pass\n",
    "    arquivo_bp.to_csv(f'{diretorio}/Data/processados/dfp_cia_aberta_{nome}_{year_0}-{year}.csv', index=False)\n",
    "    print(f'DFP {nome} processado')"
   ]
  },
  {
   "cell_type": "code",
   "execution_count": 9,
   "metadata": {},
   "outputs": [
    {
     "data": {
      "text/plain": [
       "['itr_cia_aberta_2020.zip',\n",
       " 'itr_cia_aberta_2021.zip',\n",
       " 'itr_cia_aberta_2022.zip']"
      ]
     },
     "execution_count": 9,
     "metadata": {},
     "output_type": "execute_result"
    }
   ],
   "source": [
    "#Cria lista de arquivos ITR (trimestrais) pra baixar\n",
    "arquivos_zip = []\n",
    "for ano in range(year_0_tri, year+1):\n",
    "    arquivos_zip.append(f'itr_cia_aberta_{ano}.zip')\n",
    "arquivos_zip"
   ]
  },
  {
   "cell_type": "code",
   "execution_count": 10,
   "metadata": {},
   "outputs": [
    {
     "name": "stdout",
     "output_type": "stream",
     "text": [
      "itr_cia_aberta_2020.zip esta aqui\n",
      "itr_cia_aberta_2021.zip esta aqui\n",
      "itr_cia_aberta_2022.zip esta aqui\n"
     ]
    }
   ],
   "source": [
    "#baixa os arquivos ITR (dados trimestrais)\n",
    "for arq in arquivos_zip:\n",
    "    if (os.path.isfile(f'{diretorio}/Data/{arq}')):\n",
    "        print('%s esta aqui' % arq)\n",
    "    else:\n",
    "        try:\n",
    "            wget.download(url_base_tri+arq, out=f\"./Data/{arq}\")\n",
    "        except:\n",
    "            print(f\"falha ao baixar {arq}\")\n",
    "            pass"
   ]
  },
  {
   "cell_type": "code",
   "execution_count": 11,
   "metadata": {},
   "outputs": [
    {
     "name": "stdout",
     "output_type": "stream",
     "text": [
      "itr_cia_aberta_2020.zip extraido\n",
      "itr_cia_aberta_2021.zip extraido\n",
      "itr_cia_aberta_2022.zip extraido\n"
     ]
    }
   ],
   "source": [
    "#extrai tudo\n",
    "for arq in arquivos_zip:\n",
    "    try:\n",
    "        ZipFile(f\"./Data/{arq}\", 'r').extractall('./Data/temp')\n",
    "        print(f\"{arq} extraido\")\n",
    "    except:\n",
    "        print(f\"{arq} não encontrado\")\n",
    "        pass"
   ]
  },
  {
   "cell_type": "code",
   "execution_count": 12,
   "metadata": {},
   "outputs": [],
   "source": [
    "# junta todos os anos de dados trimestrais em um arquivo só de cada tipo\n",
    "nomes_tri = ['BPA_con', 'BPA_ind', 'BPP_con', 'BPP_ind','DRE_con', 'DRE_ind', \n",
    "             \"DFC_MD_con\", \"DFC_MI_con\", \"DFC_MD_ind\", \"DFC_MI_ind\"]\n",
    "for nome in nomes_tri:\n",
    "    arquivo_bp = pd.DataFrame()\n",
    "    for ano in range(year_0_tri,year):\n",
    "        try:\n",
    "            arquivo_bp = pd.concat([arquivo_bp, pd.read_csv(f'{diretorio}/Data/temp/itr_cia_aberta_{nome}_{ano}.csv', sep=';', decimal=',', encoding='ISO-8859-1')])\n",
    "        except:\n",
    "            print(f\"falha em itr_cia_aberta_{nome}_{ano}\")\n",
    "            pass\n",
    "    arquivo_bp.to_csv(f'{diretorio}/Data/processados/itr_cia_aberta_{nome}_{year_0_tri}-{year}.csv', index=False)\n",
    "    print(f'ITR {nome} processado')"
   ]
  },
  {
   "cell_type": "code",
   "execution_count": 13,
   "metadata": {},
   "outputs": [],
   "source": [
    "#deleta pasta temporaria\n",
    "shutil.rmtree(f'{diretorio}/Data/temp')"
   ]
  },
  {
   "cell_type": "code",
   "execution_count": 52,
   "metadata": {},
   "outputs": [
    {
     "data": {
      "text/html": [
       "<div>\n",
       "<style scoped>\n",
       "    .dataframe tbody tr th:only-of-type {\n",
       "        vertical-align: middle;\n",
       "    }\n",
       "\n",
       "    .dataframe tbody tr th {\n",
       "        vertical-align: top;\n",
       "    }\n",
       "\n",
       "    .dataframe thead th {\n",
       "        text-align: right;\n",
       "    }\n",
       "</style>\n",
       "<table border=\"1\" class=\"dataframe\">\n",
       "  <thead>\n",
       "    <tr style=\"text-align: right;\">\n",
       "      <th></th>\n",
       "      <th>DENOM_CIA</th>\n",
       "      <th>CD_CVM</th>\n",
       "    </tr>\n",
       "  </thead>\n",
       "  <tbody>\n",
       "    <tr>\n",
       "      <th>0</th>\n",
       "      <td>BCO BRASIL S.A.</td>\n",
       "      <td>1023</td>\n",
       "    </tr>\n",
       "    <tr>\n",
       "      <th>1</th>\n",
       "      <td>BRB BCO DE BRASILIA S.A.</td>\n",
       "      <td>14206</td>\n",
       "    </tr>\n",
       "    <tr>\n",
       "      <th>2</th>\n",
       "      <td>CENTRAIS ELET BRAS S.A. - ELETROBRAS</td>\n",
       "      <td>2437</td>\n",
       "    </tr>\n",
       "    <tr>\n",
       "      <th>3</th>\n",
       "      <td>CIA ENERGETICA DE BRASILIA</td>\n",
       "      <td>14451</td>\n",
       "    </tr>\n",
       "    <tr>\n",
       "      <th>4</th>\n",
       "      <td>VBC ENERGIA SA</td>\n",
       "      <td>14540</td>\n",
       "    </tr>\n",
       "  </tbody>\n",
       "</table>\n",
       "</div>"
      ],
      "text/plain": [
       "                              DENOM_CIA  CD_CVM\n",
       "0                       BCO BRASIL S.A.    1023\n",
       "1              BRB BCO DE BRASILIA S.A.   14206\n",
       "2  CENTRAIS ELET BRAS S.A. - ELETROBRAS    2437\n",
       "3            CIA ENERGETICA DE BRASILIA   14451\n",
       "4                        VBC ENERGIA SA   14540"
      ]
     },
     "execution_count": 52,
     "metadata": {},
     "output_type": "execute_result"
    }
   ],
   "source": [
    "#cria lista de empresas\n",
    "lista_empresas = pd.read_csv(\"./Data/processados/dfp_cia_aberta_BPA_con_2010-2022.csv\", header=0, sep=\",\")[[\"DENOM_CIA\", 'CD_CVM']].drop_duplicates(ignore_index=True)\n",
    "lista_empresas.head()"
   ]
  },
  {
   "cell_type": "code",
   "execution_count": 66,
   "metadata": {},
   "outputs": [
    {
     "data": {
      "text/html": [
       "<div>\n",
       "<style scoped>\n",
       "    .dataframe tbody tr th:only-of-type {\n",
       "        vertical-align: middle;\n",
       "    }\n",
       "\n",
       "    .dataframe tbody tr th {\n",
       "        vertical-align: top;\n",
       "    }\n",
       "\n",
       "    .dataframe thead th {\n",
       "        text-align: right;\n",
       "    }\n",
       "</style>\n",
       "<table border=\"1\" class=\"dataframe\">\n",
       "  <thead>\n",
       "    <tr style=\"text-align: right;\">\n",
       "      <th></th>\n",
       "      <th>DENOM_CIA</th>\n",
       "      <th>CD_CVM</th>\n",
       "    </tr>\n",
       "  </thead>\n",
       "  <tbody>\n",
       "    <tr>\n",
       "      <th>460</th>\n",
       "      <td>SINQIA S.A.</td>\n",
       "      <td>22799</td>\n",
       "    </tr>\n",
       "  </tbody>\n",
       "</table>\n",
       "</div>"
      ],
      "text/plain": [
       "       DENOM_CIA  CD_CVM\n",
       "460  SINQIA S.A.   22799"
      ]
     },
     "execution_count": 66,
     "metadata": {},
     "output_type": "execute_result"
    }
   ],
   "source": [
    "#busca codigo CVM da empresa desejada\n",
    "#busca = input(\"Entre com o nome da empresa: \")\n",
    "busca = \"sinqia\"\n",
    "empresa = lista_empresas[lista_empresas['DENOM_CIA'].str.contains(busca, case=False)]\n",
    "empresa"
   ]
  },
  {
   "cell_type": "code",
   "execution_count": 73,
   "metadata": {},
   "outputs": [
    {
     "data": {
      "text/plain": [
       "22799"
      ]
     },
     "execution_count": 73,
     "metadata": {},
     "output_type": "execute_result"
    }
   ],
   "source": [
    "cd_cvm = empresa.iloc[0,1]\n",
    "cd_cvm"
   ]
  },
  {
   "cell_type": "code",
   "execution_count": null,
   "metadata": {},
   "outputs": [],
   "source": []
  }
 ],
 "metadata": {
  "kernelspec": {
   "display_name": "Python 3",
   "language": "python",
   "name": "python3"
  },
  "language_info": {
   "codemirror_mode": {
    "name": "ipython",
    "version": 3
   },
   "file_extension": ".py",
   "mimetype": "text/x-python",
   "name": "python",
   "nbconvert_exporter": "python",
   "pygments_lexer": "ipython3",
   "version": "3.8.5"
  }
 },
 "nbformat": 4,
 "nbformat_minor": 4
}
