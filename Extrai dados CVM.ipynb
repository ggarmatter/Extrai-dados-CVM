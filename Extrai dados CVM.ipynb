{
 "cells": [
  {
   "cell_type": "code",
   "execution_count": 1,
   "metadata": {},
   "outputs": [],
   "source": [
    "import pandas as pd\n",
    "import datetime\n",
    "import numpy as np\n",
    "import os.path\n",
    "import wget\n",
    "from zipfile import ZipFile"
   ]
  },
  {
   "cell_type": "code",
   "execution_count": 4,
   "metadata": {},
   "outputs": [],
   "source": [
    "#URL's onde estão os arquivos dfp e itr na CVM\n",
    "url_base = 'http://dados.cvm.gov.br/dados/CIA_ABERTA/DOC/DFP/DADOS/'\n",
    "url_quantidade = 'http://dados.cvm.gov.br/dados/CIA_ABERTA/DOC/FRE/DADOS/'\n",
    "url_ticker = 'http://dados.cvm.gov.br/dados/CIA_ABERTA/DOC/FCA/DADOS/'\n",
    "url_base_tri = 'http://dados.cvm.gov.br/dados/CIA_ABERTA/DOC/ITR/DADOS/'"
   ]
  },
  {
   "cell_type": "code",
   "execution_count": 5,
   "metadata": {},
   "outputs": [
    {
     "data": {
      "text/plain": [
       "'F:\\\\Extrai-dados-CVM'"
      ]
     },
     "execution_count": 5,
     "metadata": {},
     "output_type": "execute_result"
    }
   ],
   "source": [
    "#pega o caminho do diretorio atual\n",
    "diretorio = os.getcwd()\n",
    "diretorio"
   ]
  },
  {
   "cell_type": "code",
   "execution_count": 6,
   "metadata": {},
   "outputs": [
    {
     "data": {
      "text/plain": [
       "2022"
      ]
     },
     "execution_count": 6,
     "metadata": {},
     "output_type": "execute_result"
    }
   ],
   "source": [
    "#Pega data corrente e ano corrente\n",
    "date = datetime.date.today()\n",
    "year = date.year\n",
    "year"
   ]
  },
  {
   "cell_type": "code",
   "execution_count": 7,
   "metadata": {},
   "outputs": [
    {
     "data": {
      "text/plain": [
       "['dfp_cia_aberta_2010.zip',\n",
       " 'dfp_cia_aberta_2011.zip',\n",
       " 'dfp_cia_aberta_2012.zip',\n",
       " 'dfp_cia_aberta_2013.zip',\n",
       " 'dfp_cia_aberta_2014.zip',\n",
       " 'dfp_cia_aberta_2015.zip',\n",
       " 'dfp_cia_aberta_2016.zip',\n",
       " 'dfp_cia_aberta_2017.zip',\n",
       " 'dfp_cia_aberta_2018.zip',\n",
       " 'dfp_cia_aberta_2019.zip',\n",
       " 'dfp_cia_aberta_2020.zip',\n",
       " 'dfp_cia_aberta_2021.zip',\n",
       " 'dfp_cia_aberta_2022.zip']"
      ]
     },
     "execution_count": 7,
     "metadata": {},
     "output_type": "execute_result"
    }
   ],
   "source": [
    "#Cria uma lista com os nomes dos arquivos da CVM\n",
    "arquivos_zip = []\n",
    "for ano in range(2010,year+1):\n",
    "    arquivos_zip.append(f'dfp_cia_aberta_{ano}.zip')\n",
    "arquivos_zip"
   ]
  },
  {
   "cell_type": "code",
   "execution_count": 8,
   "metadata": {},
   "outputs": [
    {
     "name": "stdout",
     "output_type": "stream",
     "text": [
      "dfp_cia_aberta_2010.zip esta aqui\n",
      "dfp_cia_aberta_2011.zip esta aqui\n",
      "dfp_cia_aberta_2012.zip esta aqui\n",
      "dfp_cia_aberta_2013.zip esta aqui\n",
      "dfp_cia_aberta_2014.zip esta aqui\n",
      "dfp_cia_aberta_2015.zip esta aqui\n",
      "dfp_cia_aberta_2016.zip esta aqui\n",
      "dfp_cia_aberta_2017.zip esta aqui\n",
      "dfp_cia_aberta_2018.zip esta aqui\n",
      "dfp_cia_aberta_2019.zip esta aqui\n",
      "dfp_cia_aberta_2020.zip esta aqui\n",
      "dfp_cia_aberta_2021.zip esta aqui\n",
      "dfp_cia_aberta_2022.zip esta aqui\n"
     ]
    }
   ],
   "source": [
    "#baixa o arquivos se não estiver presente\n",
    "for arq in arquivos_zip:\n",
    "    if (os.path.isfile(f'{diretorio}/Data/{arq}')):\n",
    "        print('%s esta aqui' % arq)\n",
    "    else:\n",
    "        try:\n",
    "            wget.download(url_base+arq, out=f\"./Data/{arq}\")\n",
    "        except:\n",
    "            pass"
   ]
  },
  {
   "cell_type": "code",
   "execution_count": 11,
   "metadata": {},
   "outputs": [
    {
     "name": "stdout",
     "output_type": "stream",
     "text": [
      "dfp_cia_aberta_2010.zip extraido\n",
      "dfp_cia_aberta_2011.zip extraido\n",
      "dfp_cia_aberta_2012.zip extraido\n",
      "dfp_cia_aberta_2013.zip extraido\n",
      "dfp_cia_aberta_2014.zip extraido\n",
      "dfp_cia_aberta_2015.zip extraido\n",
      "dfp_cia_aberta_2016.zip extraido\n",
      "dfp_cia_aberta_2017.zip extraido\n",
      "dfp_cia_aberta_2018.zip extraido\n",
      "dfp_cia_aberta_2019.zip extraido\n",
      "dfp_cia_aberta_2020.zip extraido\n",
      "dfp_cia_aberta_2021.zip extraido\n",
      "dfp_cia_aberta_2022.zip extraido\n"
     ]
    }
   ],
   "source": [
    "#extrai tudo\n",
    "for arq in arquivos_zip:\n",
    "    try:\n",
    "        ZipFile(f\"./Data/{arq}\", 'r').extractall('./Data/temp')\n",
    "        print(f\"{arq} extraido\")\n",
    "    except:\n",
    "        pass"
   ]
  },
  {
   "cell_type": "code",
   "execution_count": 15,
   "metadata": {},
   "outputs": [
    {
     "data": {
      "text/plain": [
       "[2020, 2021, 2022]"
      ]
     },
     "execution_count": 15,
     "metadata": {},
     "output_type": "execute_result"
    }
   ],
   "source": [
    "#Cria lista de arquivos ITR pra baixar\n",
    "lista_tri = [year-2,year-1, year]\n",
    "lista_tri"
   ]
  },
  {
   "cell_type": "code",
   "execution_count": 17,
   "metadata": {},
   "outputs": [
    {
     "data": {
      "text/plain": [
       "['itr_cia_aberta_2020.zip',\n",
       " 'itr_cia_aberta_2021.zip',\n",
       " 'itr_cia_aberta_2022.zip']"
      ]
     },
     "execution_count": 17,
     "metadata": {},
     "output_type": "execute_result"
    }
   ],
   "source": [
    "arquivos_zip = []\n",
    "for ano in lista_tri:\n",
    "    arquivos_zip.append(f'itr_cia_aberta_{ano}.zip')\n",
    "arquivos_zip"
   ]
  },
  {
   "cell_type": "code",
   "execution_count": 22,
   "metadata": {},
   "outputs": [],
   "source": [
    "for arq in arquivos_zip:\n",
    "    if (os.path.isfile(f'{diretorio}/Data/{arq}')):\n",
    "        print('%s esta aqui' % arq)\n",
    "    else:\n",
    "        try:\n",
    "            wget.download(url_base_tri+arq, out=f\"./Data/{arq}\")\n",
    "        except:\n",
    "            print(f\"falha ao baixar {arq}\")\n",
    "            pass"
   ]
  },
  {
   "cell_type": "code",
   "execution_count": 23,
   "metadata": {},
   "outputs": [
    {
     "name": "stdout",
     "output_type": "stream",
     "text": [
      "itr_cia_aberta_2020.zip não encontrado\n",
      "itr_cia_aberta_2021.zip não encontrado\n",
      "itr_cia_aberta_2022.zip não encontrado\n"
     ]
    }
   ],
   "source": [
    "#extrai tudo\n",
    "for arq in arquivos_zip:\n",
    "    try:\n",
    "        ZipFile(f\"./Data/{arq}\", 'r').extractall('./Data/temp')\n",
    "        print(f\"{arq} extraido\")\n",
    "    except:\n",
    "        print(f\"{arq} não encontrado\")\n",
    "        pass"
   ]
  },
  {
   "cell_type": "code",
   "execution_count": null,
   "metadata": {},
   "outputs": [],
   "source": []
  }
 ],
 "metadata": {
  "kernelspec": {
   "display_name": "Python 3",
   "language": "python",
   "name": "python3"
  },
  "language_info": {
   "codemirror_mode": {
    "name": "ipython",
    "version": 3
   },
   "file_extension": ".py",
   "mimetype": "text/x-python",
   "name": "python",
   "nbconvert_exporter": "python",
   "pygments_lexer": "ipython3",
   "version": "3.8.5"
  }
 },
 "nbformat": 4,
 "nbformat_minor": 4
}
